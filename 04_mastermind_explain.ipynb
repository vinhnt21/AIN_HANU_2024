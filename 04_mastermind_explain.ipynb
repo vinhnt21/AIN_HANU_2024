{
 "cells": [
  {
   "cell_type": "code",
   "execution_count": 2,
   "metadata": {},
   "outputs": [],
   "source": [
    "from logic import *"
   ]
  },
  {
   "cell_type": "markdown",
   "metadata": {},
   "source": [
    "Defining Colors and Symbols"
   ]
  },
  {
   "cell_type": "code",
   "execution_count": 3,
   "metadata": {},
   "outputs": [],
   "source": [
    "colors = [\"red\", \"blue\", \"green\", \"yellow\"]\n",
    "symbols = []\n",
    "for i in range(4):\n",
    "    for color in colors:\n",
    "        symbols.append(Symbol(f\"{color}{i}\"))"
   ]
  },
  {
   "cell_type": "markdown",
   "metadata": {},
   "source": [
    "Setting Up the Knowledge Base: An empty knowledge base using the And operator is created, which will accumulate constraints to define the problem.\n"
   ]
  },
  {
   "cell_type": "code",
   "execution_count": 4,
   "metadata": {},
   "outputs": [],
   "source": [
    "knowledge = And()"
   ]
  },
  {
   "cell_type": "markdown",
   "metadata": {},
   "source": [
    "Each color has a position."
   ]
  },
  {
   "cell_type": "code",
   "execution_count": 5,
   "metadata": {},
   "outputs": [],
   "source": [
    "for color in colors:\n",
    "    knowledge.add(Or(\n",
    "        Symbol(f\"{color}0\"),\n",
    "        Symbol(f\"{color}1\"),\n",
    "        Symbol(f\"{color}2\"),\n",
    "        Symbol(f\"{color}3\")\n",
    "    ))\n"
   ]
  },
  {
   "cell_type": "markdown",
   "metadata": {},
   "source": [
    "Only one position per color."
   ]
  },
  {
   "cell_type": "code",
   "execution_count": 6,
   "metadata": {},
   "outputs": [],
   "source": [
    "for color in colors:\n",
    "    for i in range(4):\n",
    "        for j in range(4):\n",
    "            if i != j:\n",
    "                knowledge.add(Implication(\n",
    "                    Symbol(f\"{color}{i}\"), Not(Symbol(f\"{color}{j}\"))\n",
    "                ))"
   ]
  },
  {
   "cell_type": "markdown",
   "metadata": {},
   "source": [
    "Only one color per position."
   ]
  },
  {
   "cell_type": "code",
   "execution_count": 7,
   "metadata": {},
   "outputs": [],
   "source": [
    "for i in range(4):\n",
    "    for c1 in colors:\n",
    "        for c2 in colors:\n",
    "            if c1 != c2:\n",
    "                knowledge.add(Implication(\n",
    "                    Symbol(f\"{c1}{i}\"), Not(Symbol(f\"{c2}{i}\"))\n",
    "                    ))"
   ]
  },
  {
   "cell_type": "markdown",
   "metadata": {},
   "source": [
    "Add specific configuration"
   ]
  },
  {
   "cell_type": "code",
   "execution_count": 8,
   "metadata": {},
   "outputs": [],
   "source": [
    "knowledge.add(Or(\n",
    "    And(Symbol(\"red0\"), Symbol(\"blue1\"), Not(Symbol(\"green2\")), Not(Symbol(\"yellow3\"))), # (1)\n",
    "    And(Symbol(\"red0\"), Symbol(\"green2\"), Not(Symbol(\"blue1\")), Not(Symbol(\"yellow3\"))), # (2) /\n",
    "    And(Symbol(\"red0\"), Symbol(\"yellow3\"), Not(Symbol(\"blue1\")), Not(Symbol(\"green2\"))),  #(10)\n",
    "    And(Symbol(\"blue1\"), Symbol(\"green2\"), Not(Symbol(\"red0\")), Not(Symbol(\"yellow3\"))), # (3) /\n",
    "    And(Symbol(\"blue1\"), Symbol(\"yellow3\"), Not(Symbol(\"red0\")), Not(Symbol(\"green2\"))), #  (4)/\n",
    "    And(Symbol(\"green2\"), Symbol(\"yellow3\"), Not(Symbol(\"red0\")), Not(Symbol(\"blue1\"))) # (5)  /\n",
    "))"
   ]
  },
  {
   "cell_type": "markdown",
   "metadata": {},
   "source": [
    "Add known Constraints"
   ]
  },
  {
   "cell_type": "code",
   "execution_count": 9,
   "metadata": {},
   "outputs": [],
   "source": [
    "knowledge.add(And(\n",
    "    Not(Symbol(\"blue0\")), #(6)\n",
    "    Not(Symbol(\"red1\")), #(7)\n",
    "    Not(Symbol(\"green2\")), #(8)\n",
    "    Not(Symbol(\"yellow3\")) #(9)\n",
    "))\n"
   ]
  },
  {
   "cell_type": "markdown",
   "metadata": {},
   "source": [
    "(2), (3), (4), (5), (8), (9) -> red0\n",
    "\n",
    "(9), (10) -> blue1 (11)\n",
    "\n",
    "(1), (10), (11) -> yellow2, green3\n"
   ]
  },
  {
   "cell_type": "code",
   "execution_count": 10,
   "metadata": {},
   "outputs": [
    {
     "name": "stdout",
     "output_type": "stream",
     "text": [
      "red0\n",
      "blue1\n",
      "yellow2\n",
      "green3\n"
     ]
    }
   ],
   "source": [
    "for symbol in symbols:\n",
    "    if model_check(knowledge, symbol):\n",
    "        print(symbol)"
   ]
  }
 ],
 "metadata": {
  "kernelspec": {
   "display_name": "Python 3",
   "language": "python",
   "name": "python3"
  },
  "language_info": {
   "codemirror_mode": {
    "name": "ipython",
    "version": 3
   },
   "file_extension": ".py",
   "mimetype": "text/x-python",
   "name": "python",
   "nbconvert_exporter": "python",
   "pygments_lexer": "ipython3",
   "version": "3.12.4"
  }
 },
 "nbformat": 4,
 "nbformat_minor": 2
}
