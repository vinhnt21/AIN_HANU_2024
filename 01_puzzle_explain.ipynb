{
 "cells": [
  {
   "cell_type": "code",
   "execution_count": 9,
   "metadata": {},
   "outputs": [],
   "source": [
    "from logic import *\n",
    "\n",
    "people = [\"Gilderoy\", \"Pomona\", \"Minerva\", \"Horace\"]\n",
    "houses = [\"Gryffindor\", \"Hufflepuff\", \"Ravenclaw\", \"Slytherin\"]\n",
    "\n",
    "symbols = []\n",
    "\n",
    "knowledge = And()\n"
   ]
  },
  {
   "cell_type": "code",
   "execution_count": 10,
   "metadata": {},
   "outputs": [],
   "source": [
    "\n",
    "\n",
    "for person in people:\n",
    "    for house in houses:\n",
    "        symbols.append(Symbol(f\"{person}{house}\"))\n"
   ]
  },
  {
   "cell_type": "markdown",
   "metadata": {},
   "source": [
    "- add all possible cases to `symbols`"
   ]
  },
  {
   "cell_type": "code",
   "execution_count": 11,
   "metadata": {},
   "outputs": [],
   "source": [
    "for person in people:\n",
    "    knowledge.add(Or(\n",
    "        Symbol(f\"{person}Gryffindor\"),\n",
    "        Symbol(f\"{person}Hufflepuff\"),\n",
    "        Symbol(f\"{person}Ravenclaw\"),\n",
    "        Symbol(f\"{person}Slytherin\")\n",
    "    ))"
   ]
  },
  {
   "cell_type": "markdown",
   "metadata": {},
   "source": [
    "- Each person belongs to a house."
   ]
  },
  {
   "cell_type": "code",
   "execution_count": 12,
   "metadata": {},
   "outputs": [],
   "source": [
    "for person in people:\n",
    "    for h1 in houses:\n",
    "        for h2 in houses:\n",
    "            if h1 != h2:\n",
    "                knowledge.add(\n",
    "                    Implication(Symbol(f\"{person}{h1}\"), Not(Symbol(f\"{person}{h2}\")))\n",
    "                )\n"
   ]
  },
  {
   "cell_type": "markdown",
   "metadata": {},
   "source": [
    "- Only one house per person."
   ]
  },
  {
   "cell_type": "code",
   "execution_count": 13,
   "metadata": {},
   "outputs": [],
   "source": [
    "\n",
    "for house in houses:\n",
    "    for p1 in people:\n",
    "        for p2 in people:\n",
    "            if p1 != p2:\n",
    "                knowledge.add(\n",
    "                    Implication(Symbol(f\"{p1}{house}\"), Not(Symbol(f\"{p2}{house}\")))\n",
    "                )"
   ]
  },
  {
   "cell_type": "markdown",
   "metadata": {},
   "source": [
    "- Only one person per house."
   ]
  },
  {
   "cell_type": "code",
   "execution_count": 14,
   "metadata": {},
   "outputs": [],
   "source": [
    "\n",
    "knowledge.add(\n",
    "    Or(Symbol(\"GilderoyGryffindor\"), Symbol(\"GilderoyRavenclaw\"))\n",
    ")\n",
    "\n",
    "knowledge.add(\n",
    "    Not(Symbol(\"PomonaSlytherin\"))\n",
    ")\n",
    "\n",
    "knowledge.add(\n",
    "    Symbol(\"MinervaGryffindor\")\n",
    ")\n"
   ]
  },
  {
   "cell_type": "markdown",
   "metadata": {},
   "source": [
    "1. Gilderoy belong to Gryffindor or Ravenclaw\n",
    "2. Pomona don't belong to Slytherin\n",
    "3. Minerva belong to Gryffindor"
   ]
  },
  {
   "cell_type": "markdown",
   "metadata": {},
   "source": [
    "##### (3) -> Minerva-Gryffindor (4)\n",
    "##### (3),(1) -> Gilderoy-Ravenclaw (5)\n",
    "##### (2),(4),(5) -> Pomona-Hufflepuff (6)\n",
    "##### (4),(5),(6) -> Horace-Slytherin"
   ]
  },
  {
   "cell_type": "code",
   "execution_count": 15,
   "metadata": {},
   "outputs": [
    {
     "name": "stdout",
     "output_type": "stream",
     "text": [
      "GilderoyRavenclaw\n",
      "PomonaHufflepuff\n",
      "MinervaGryffindor\n",
      "HoraceSlytherin\n"
     ]
    }
   ],
   "source": [
    "\n",
    "for symbol in symbols:\n",
    "    if model_check(knowledge, symbol):\n",
    "        print(symbol)"
   ]
  }
 ],
 "metadata": {
  "kernelspec": {
   "display_name": "Python 3",
   "language": "python",
   "name": "python3"
  },
  "language_info": {
   "codemirror_mode": {
    "name": "ipython",
    "version": 3
   },
   "file_extension": ".py",
   "mimetype": "text/x-python",
   "name": "python",
   "nbconvert_exporter": "python",
   "pygments_lexer": "ipython3",
   "version": "3.12.4"
  }
 },
 "nbformat": 4,
 "nbformat_minor": 2
}
