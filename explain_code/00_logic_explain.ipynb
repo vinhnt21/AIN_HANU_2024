{
 "cells": [
  {
   "cell_type": "markdown",
   "metadata": {},
   "source": [
    "# class **Sentence**"
   ]
  },
  {
   "cell_type": "code",
   "execution_count": 52,
   "metadata": {},
   "outputs": [],
   "source": [
    "class Sentence():\n",
    "\n",
    "    def evaluate(self, model):\n",
    "        \"\"\"Evaluates the logical sentence.\"\"\"\n",
    "        raise Exception(\"nothing to evaluate\")\n",
    "\n",
    "    def formula(self):\n",
    "        \"\"\"Returns string formula representing logical sentence.\"\"\"\n",
    "        return \"\"\n",
    "\n",
    "    def symbols(self):\n",
    "        \"\"\"Returns a set of all symbols in the logical sentence.\"\"\"\n",
    "        return set()\n",
    "\n",
    "    @classmethod\n",
    "    def validate(cls, sentence):\n",
    "        if not isinstance(sentence, Sentence):\n",
    "            raise TypeError(\"must be a logical sentence\")\n",
    "\n",
    "    @classmethod\n",
    "    def parenthesize(cls, s):\n",
    "        \"\"\"Parenthesizes an expression if not already parenthesized.\"\"\"\n",
    "        def balanced(s):\n",
    "            \"\"\"Checks if a string has balanced parentheses.\"\"\"\n",
    "            count = 0\n",
    "            for c in s:\n",
    "                if c == \"(\":\n",
    "                    count += 1\n",
    "                elif c == \")\":\n",
    "                    if count <= 0:\n",
    "                        return False\n",
    "                    count -= 1\n",
    "            return count == 0\n",
    "        if not len(s) or s.isalpha() or (\n",
    "            s[0] == \"(\" and s[-1] == \")\" and balanced(s[1:-1])\n",
    "        ):\n",
    "            return s\n",
    "        else:\n",
    "            return f\"({s})\""
   ]
  },
  {
   "cell_type": "markdown",
   "metadata": {},
   "source": [
    "# class **Symbol**"
   ]
  },
  {
   "cell_type": "code",
   "execution_count": 53,
   "metadata": {},
   "outputs": [],
   "source": [
    "class Symbol(Sentence):\n",
    "\n",
    "    def __init__(self, name):\n",
    "        self.name = name\n",
    "\n",
    "    def __eq__(self, other):\n",
    "        return isinstance(other, Symbol) and self.name == other.name\n",
    "\n",
    "    def __hash__(self):\n",
    "        return hash((\"symbol\", self.name))\n",
    "\n",
    "    def __repr__(self):\n",
    "        return self.name\n",
    "\n",
    "    def evaluate(self, model):\n",
    "        try:\n",
    "            return bool(model[self.name])\n",
    "        except KeyError:\n",
    "            raise EvaluationException(f\"variable {self.name} not in model\")\n",
    "\n",
    "    def formula(self):\n",
    "        return self.name\n",
    "\n",
    "    def symbols(self):\n",
    "        return {self.name}"
   ]
  },
  {
   "cell_type": "markdown",
   "metadata": {},
   "source": [
    "- model: Assignment of truth values to propositions."
   ]
  },
  {
   "cell_type": "code",
   "execution_count": 54,
   "metadata": {},
   "outputs": [
    {
     "name": "stdout",
     "output_type": "stream",
     "text": [
      "True\n",
      "Rain\n",
      "{'Rain'}\n"
     ]
    }
   ],
   "source": [
    "# Create a symbol\n",
    "rain = Symbol(\"Rain\")\n",
    "\n",
    "# Example model where Rain is True\n",
    "model = {\"Rain\": True}\n",
    "\n",
    "# Evaluate\n",
    "print(rain.evaluate(model))  # Output: True\n",
    "\n",
    "# Formula\n",
    "print(rain.formula())  # Output: \"Rain\"\n",
    "\n",
    "# Symbols\n",
    "print(rain.symbols())  # Output: {\"Rain\"}"
   ]
  },
  {
   "cell_type": "code",
   "execution_count": 55,
   "metadata": {},
   "outputs": [
    {
     "name": "stdout",
     "output_type": "stream",
     "text": [
      "True\n",
      "Rain\n",
      "{'Rain'}\n"
     ]
    }
   ],
   "source": [
    "\n",
    "# Evaluate\n",
    "print(rain.evaluate(model))  # Output: True\n",
    "\n",
    "# Formula\n",
    "print(rain.formula())  # Output: \"Rain\"\n",
    "\n",
    "# Symbols\n",
    "print(rain.symbols())  # Output: {\"Rain\"}"
   ]
  },
  {
   "cell_type": "markdown",
   "metadata": {},
   "source": [
    "# Not(Sentence)"
   ]
  },
  {
   "cell_type": "code",
   "execution_count": 56,
   "metadata": {},
   "outputs": [],
   "source": [
    "\n",
    "class Not(Sentence):\n",
    "    def __init__(self, operand):\n",
    "        Sentence.validate(operand)\n",
    "        self.operand = operand\n",
    "\n",
    "    def __eq__(self, other):\n",
    "        return isinstance(other, Not) and self.operand == other.operand\n",
    "\n",
    "    def __hash__(self):\n",
    "        return hash((\"not\", hash(self.operand)))\n",
    "\n",
    "    def __repr__(self):\n",
    "        return f\"Not({self.operand})\"\n",
    "\n",
    "    def evaluate(self, model):\n",
    "        return not self.operand.evaluate(model)\n",
    "\n",
    "    def formula(self):\n",
    "        return \"¬\" + Sentence.parenthesize(self.operand.formula())\n",
    "\n",
    "    def symbols(self):\n",
    "        return self.operand.symbols()\n",
    "    \n"
   ]
  },
  {
   "cell_type": "code",
   "execution_count": 57,
   "metadata": {},
   "outputs": [
    {
     "name": "stdout",
     "output_type": "stream",
     "text": [
      "False\n",
      "¬Rain\n",
      "{'Rain'}\n"
     ]
    }
   ],
   "source": [
    "  # Create a negation of a symbol\n",
    "not_rain = Not(rain)\n",
    "\n",
    "  # Evaluate\n",
    "print(not_rain.evaluate(model))  # Output: False\n",
    "\n",
    "  # Formula\n",
    "print(not_rain.formula())  # Output: \"¬Rain\"\n",
    "\n",
    "  # Symbols\n",
    "print(not_rain.symbols())  # Output: {\"Rain\"}"
   ]
  },
  {
   "cell_type": "markdown",
   "metadata": {},
   "source": [
    "# And(Sentence)"
   ]
  },
  {
   "cell_type": "code",
   "execution_count": 58,
   "metadata": {},
   "outputs": [],
   "source": [
    "class And(Sentence):\n",
    "    def __init__(self, *conjuncts):\n",
    "        for conjunct in conjuncts:\n",
    "            Sentence.validate(conjunct)\n",
    "        self.conjuncts = list(conjuncts)\n",
    "\n",
    "    def __eq__(self, other):\n",
    "        return isinstance(other, And) and self.conjuncts == other.conjuncts\n",
    "\n",
    "    def __hash__(self):\n",
    "        return hash(\n",
    "            (\"and\", tuple(hash(conjunct) for conjunct in self.conjuncts))\n",
    "        )\n",
    "\n",
    "    def __repr__(self):\n",
    "        conjunctions = \", \".join(\n",
    "            [str(conjunct) for conjunct in self.conjuncts]\n",
    "        )\n",
    "        return f\"And({conjunctions})\"\n",
    "\n",
    "    def add(self, conjunct):\n",
    "        Sentence.validate(conjunct)\n",
    "        self.conjuncts.append(conjunct)\n",
    "\n",
    "    def evaluate(self, model):\n",
    "        return all(conjunct.evaluate(model) for conjunct in self.conjuncts)\n",
    "\n",
    "    def formula(self):\n",
    "        if len(self.conjuncts) == 1:\n",
    "            return self.conjuncts[0].formula()\n",
    "        return \" ∧ \".join([Sentence.parenthesize(conjunct.formula())\n",
    "                           for conjunct in self.conjuncts])\n",
    "\n",
    "    def symbols(self):\n",
    "        return set.union(*[conjunct.symbols() for conjunct in self.conjuncts])"
   ]
  },
  {
   "cell_type": "code",
   "execution_count": 59,
   "metadata": {},
   "outputs": [
    {
     "name": "stdout",
     "output_type": "stream",
     "text": [
      "False\n",
      "Rain ∧ Sunny\n",
      "{'Rain', 'Sunny'}\n"
     ]
    }
   ],
   "source": [
    "  # Create an AND sentence\n",
    "sunny = Symbol(\"Sunny\")\n",
    "rain_and_sunny = And(rain, sunny)\n",
    "\n",
    "  # Example model where Rain is True and Sunny is False\n",
    "model = {\"Rain\": True, \"Sunny\": False}\n",
    "\n",
    "  # Evaluate\n",
    "print(rain_and_sunny.evaluate(model))  # Output: False\n",
    "\n",
    "  # Formula\n",
    "print(rain_and_sunny.formula())  # Output: \"(Rain) ∧ (Sunny)\"\n",
    "\n",
    "  # Symbols\n",
    "print(rain_and_sunny.symbols())  # Output: {\"Rain\", \"Sunny\"}"
   ]
  },
  {
   "cell_type": "markdown",
   "metadata": {},
   "source": [
    "# Or(Sentence)"
   ]
  },
  {
   "cell_type": "code",
   "execution_count": 60,
   "metadata": {},
   "outputs": [],
   "source": [
    "class Or(Sentence):\n",
    "    def __init__(self, *disjuncts):\n",
    "        for disjunct in disjuncts:\n",
    "            Sentence.validate(disjunct)\n",
    "        self.disjuncts = list(disjuncts)\n",
    "\n",
    "    def __eq__(self, other):\n",
    "        return isinstance(other, Or) and self.disjuncts == other.disjuncts\n",
    "\n",
    "    def __hash__(self):\n",
    "        return hash(\n",
    "            (\"or\", tuple(hash(disjunct) for disjunct in self.disjuncts))\n",
    "        )\n",
    "\n",
    "    def __repr__(self):\n",
    "        disjuncts = \", \".join([str(disjunct) for disjunct in self.disjuncts])\n",
    "        return f\"Or({disjuncts})\"\n",
    "\n",
    "    def evaluate(self, model):\n",
    "        return any(disjunct.evaluate(model) for disjunct in self.disjuncts)\n",
    "\n",
    "    def formula(self):\n",
    "        if len(self.disjuncts) == 1:\n",
    "            return self.disjuncts[0].formula()\n",
    "        return \" ∨  \".join([Sentence.parenthesize(disjunct.formula())\n",
    "                            for disjunct in self.disjuncts])\n",
    "\n",
    "    def symbols(self):\n",
    "        return set.union(*[disjunct.symbols() for disjunct in self.disjuncts])"
   ]
  },
  {
   "cell_type": "code",
   "execution_count": 61,
   "metadata": {},
   "outputs": [
    {
     "name": "stdout",
     "output_type": "stream",
     "text": [
      "True\n",
      "Rain ∨  Sunny\n",
      "{'Rain', 'Sunny'}\n"
     ]
    }
   ],
   "source": [
    "  # Create an OR sentence\n",
    "rain_or_sunny = Or(rain, sunny)\n",
    "\n",
    "  # Evaluate\n",
    "print(rain_or_sunny.evaluate(model))  # Output: True\n",
    "\n",
    "  # Formula\n",
    "print(rain_or_sunny.formula())  # Output: \"(Rain) ∨ (Sunny)\"\n",
    "\n",
    "  # Symbols\n",
    "print(rain_or_sunny.symbols())  # Output: {\"Rain\", \"Sunny\"}"
   ]
  },
  {
   "cell_type": "markdown",
   "metadata": {},
   "source": [
    "# Implication(Sentence)"
   ]
  },
  {
   "cell_type": "code",
   "execution_count": 62,
   "metadata": {},
   "outputs": [],
   "source": [
    "class Implication(Sentence):\n",
    "    def __init__(self, antecedent, consequent):\n",
    "        Sentence.validate(antecedent)\n",
    "        Sentence.validate(consequent)\n",
    "        self.antecedent = antecedent\n",
    "        self.consequent = consequent\n",
    "\n",
    "    def __eq__(self, other):\n",
    "        return (isinstance(other, Implication)\n",
    "                and self.antecedent == other.antecedent\n",
    "                and self.consequent == other.consequent)\n",
    "\n",
    "    def __hash__(self):\n",
    "        return hash((\"implies\", hash(self.antecedent), hash(self.consequent)))\n",
    "\n",
    "    def __repr__(self):\n",
    "        return f\"Implication({self.antecedent}, {self.consequent})\"\n",
    "\n",
    "    def evaluate(self, model):\n",
    "        return ((not self.antecedent.evaluate(model))\n",
    "                or self.consequent.evaluate(model))\n",
    "\n",
    "    def formula(self):\n",
    "        antecedent = Sentence.parenthesize(self.antecedent.formula())\n",
    "        consequent = Sentence.parenthesize(self.consequent.formula())\n",
    "        return f\"{antecedent} => {consequent}\"\n",
    "\n",
    "    def symbols(self):\n",
    "        return set.union(self.antecedent.symbols(), self.consequent.symbols())\n"
   ]
  },
  {
   "cell_type": "code",
   "execution_count": 63,
   "metadata": {},
   "outputs": [
    {
     "name": "stdout",
     "output_type": "stream",
     "text": [
      "False\n",
      "Rain => Sunny\n",
      "{'Rain', 'Sunny'}\n"
     ]
    }
   ],
   "source": [
    "\n",
    "if_rain_then_sunny = Implication(rain, sunny)\n",
    "\n",
    "  # Evaluate\n",
    "print(if_rain_then_sunny.evaluate(model))  # Output: False\n",
    "\n",
    "  # Formula\n",
    "print(if_rain_then_sunny.formula())  # Output: \"(Rain) => (Sunny)\"\n",
    "\n",
    "  # Symbols\n",
    "print(if_rain_then_sunny.symbols())  # Output: {\"Rain\", \"Sunny\"}"
   ]
  },
  {
   "cell_type": "markdown",
   "metadata": {},
   "source": [
    "# Biconditional(Sentence)"
   ]
  },
  {
   "cell_type": "code",
   "execution_count": 64,
   "metadata": {},
   "outputs": [],
   "source": [
    "class Biconditional(Sentence):\n",
    "    def __init__(self, left, right):\n",
    "        Sentence.validate(left)\n",
    "        Sentence.validate(right)\n",
    "        self.left = left\n",
    "        self.right = right\n",
    "\n",
    "    def __eq__(self, other):\n",
    "        return (isinstance(other, Biconditional)\n",
    "                and self.left == other.left\n",
    "                and self.right == other.right)\n",
    "\n",
    "    def __hash__(self):\n",
    "        return hash((\"biconditional\", hash(self.left), hash(self.right)))\n",
    "\n",
    "    def __repr__(self):\n",
    "        return f\"Biconditional({self.left}, {self.right})\"\n",
    "\n",
    "    def evaluate(self, model):\n",
    "        return ((self.left.evaluate(model)\n",
    "                 and self.right.evaluate(model))\n",
    "                or (not self.left.evaluate(model)\n",
    "                    and not self.right.evaluate(model)))\n",
    "\n",
    "    def formula(self):\n",
    "        left = Sentence.parenthesize(str(self.left))\n",
    "        right = Sentence.parenthesize(str(self.right))\n",
    "        return f\"{left} <=> {right}\"\n",
    "\n",
    "    def symbols(self):\n",
    "        return set.union(self.left.symbols(), self.right.symbols())\n"
   ]
  },
  {
   "cell_type": "code",
   "execution_count": 65,
   "metadata": {},
   "outputs": [
    {
     "name": "stdout",
     "output_type": "stream",
     "text": [
      "False\n",
      "Rain <=> Sunny\n",
      "{'Rain', 'Sunny'}\n"
     ]
    }
   ],
   "source": [
    "  # Create a biconditional sentence\n",
    "rain_iff_sunny = Biconditional(rain, sunny)\n",
    "\n",
    "  # Evaluate\n",
    "print(rain_iff_sunny.evaluate(model))  # Output: False\n",
    "\n",
    "  # Formula\n",
    "print(rain_iff_sunny.formula())  # Output: \"(Rain) <=> (Sunny)\"\n",
    "\n",
    "  # Symbols\n",
    "print(rain_iff_sunny.symbols())  # Output: {\"Rain\", \"Sunny\"}"
   ]
  },
  {
   "cell_type": "code",
   "execution_count": 66,
   "metadata": {},
   "outputs": [],
   "source": [
    "\n",
    "\n",
    "def model_check(knowledge, query):\n",
    "    \"\"\"Checks if knowledge base entails query.\"\"\"\n",
    "\n",
    "    def check_all(knowledge, query, symbols, model):\n",
    "        \"\"\"Checks if knowledge base entails query, given a particular model.\"\"\"\n",
    "        print(f'knowledge: {knowledge}\\nquery: {query}\\nsymbols: {symbols}\\nmodel: {model}\\n-------------------')\n",
    "        # If model has an assignment for each symbol\n",
    "        if not symbols:\n",
    "\n",
    "            # If knowledge base is true in model, then query must also be true\n",
    "            if knowledge.evaluate(model):\n",
    "                return query.evaluate(model)\n",
    "            return True\n",
    "        else:\n",
    "\n",
    "            # Choose one of the remaining unused symbols\n",
    "            remaining = symbols.copy()\n",
    "            p = remaining.pop()\n",
    "\n",
    "            # Create a model where the symbol is true\n",
    "            model_true = model.copy()\n",
    "            model_true[p] = True\n",
    "\n",
    "            # Create a model where the symbol is false\n",
    "            model_false = model.copy()\n",
    "            model_false[p] = False\n",
    "\n",
    "            # Ensure entailment holds in both models\n",
    "            return (check_all(knowledge, query, remaining, model_true) and\n",
    "                    check_all(knowledge, query, remaining, model_false))\n",
    "\n",
    "    # Get all symbols in both knowledge and query\n",
    "    symbols = set.union(knowledge.symbols(), query.symbols())\n",
    "    print(f'All symbols {symbols}\\n----------------------')\n",
    "    # Check that knowledge entails query\n",
    "    return check_all(knowledge, query, symbols, dict())\n"
   ]
  },
  {
   "cell_type": "markdown",
   "metadata": {},
   "source": [
    "- chạy đệ quy, thử tất cả các trường hợp có thể xảy ra rồi tổng hợp lại kết quả"
   ]
  },
  {
   "cell_type": "code",
   "execution_count": 69,
   "metadata": {},
   "outputs": [
    {
     "name": "stdout",
     "output_type": "stream",
     "text": [
      "All symbols {'Rain', 'Sunny'}\n",
      "----------------------\n",
      "knowledge: And(Rain, Not(Sunny))\n",
      "query: Rain\n",
      "symbols: {'Rain', 'Sunny'}\n",
      "model: {}\n",
      "-------------------\n",
      "knowledge: And(Rain, Not(Sunny))\n",
      "query: Rain\n",
      "symbols: {'Sunny'}\n",
      "model: {'Rain': True}\n",
      "-------------------\n",
      "knowledge: And(Rain, Not(Sunny))\n",
      "query: Rain\n",
      "symbols: set()\n",
      "model: {'Rain': True, 'Sunny': True}\n",
      "-------------------\n",
      "knowledge: And(Rain, Not(Sunny))\n",
      "query: Rain\n",
      "symbols: set()\n",
      "model: {'Rain': True, 'Sunny': False}\n",
      "-------------------\n",
      "knowledge: And(Rain, Not(Sunny))\n",
      "query: Rain\n",
      "symbols: {'Sunny'}\n",
      "model: {'Rain': False}\n",
      "-------------------\n",
      "knowledge: And(Rain, Not(Sunny))\n",
      "query: Rain\n",
      "symbols: set()\n",
      "model: {'Rain': False, 'Sunny': True}\n",
      "-------------------\n",
      "knowledge: And(Rain, Not(Sunny))\n",
      "query: Rain\n",
      "symbols: set()\n",
      "model: {'Rain': False, 'Sunny': False}\n",
      "-------------------\n",
      "True\n"
     ]
    }
   ],
   "source": [
    "  # Define knowledge and query\n",
    "knowledge = And(rain, Not(sunny))\n",
    "query = rain\n",
    "\n",
    "  # Check if knowledge entails query\n",
    "result = model_check(knowledge, query)\n",
    "print(result)  # Output: True or False depending on the model"
   ]
  }
 ],
 "metadata": {
  "kernelspec": {
   "display_name": "Python 3",
   "language": "python",
   "name": "python3"
  },
  "language_info": {
   "codemirror_mode": {
    "name": "ipython",
    "version": 3
   },
   "file_extension": ".py",
   "mimetype": "text/x-python",
   "name": "python",
   "nbconvert_exporter": "python",
   "pygments_lexer": "ipython3",
   "version": "3.12.4"
  }
 },
 "nbformat": 4,
 "nbformat_minor": 2
}
